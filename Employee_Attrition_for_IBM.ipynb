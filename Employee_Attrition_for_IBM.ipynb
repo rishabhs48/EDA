{
 "cells": [
  {
   "cell_type": "markdown",
   "id": "0e8360d6",
   "metadata": {},
   "source": [
    "# 3 Levels of Analysis\n",
    "\n",
    "* Level 0 : Getting Started\n",
    "* Level 1 : Univariate Analysis\n",
    "* Level 2 : Bi-Variate Analysis\n",
    "* Level 3 : Multivariate Analysis and asking questions from the data "
   ]
  },
  {
   "cell_type": "markdown",
   "id": "827c04ec",
   "metadata": {},
   "source": [
    "## Level 0 Tasks (Getting Started) \n",
    "\n",
    "1.Visually inspect the first few and last few rows of the data \\\n",
    "2.Check the shape of the data frame \\\n",
    "3.Check the count of null values in each column \\\n",
    "4.Inspect all the column names and cross check with the data dictionary \\\n",
    "5.Check the information of the data frame using the info() function \n",
    "\n"
   ]
  },
  {
   "cell_type": "markdown",
   "id": "5f140b13",
   "metadata": {},
   "source": [
    "### Importing the necessary libraries "
   ]
  },
  {
   "cell_type": "code",
   "execution_count": 1,
   "id": "92d6b04b",
   "metadata": {},
   "outputs": [],
   "source": [
    "import matplotlib.pyplot as plt             # to visualize\n",
    "from tabulate import tabulate               # to print the table\n",
    "import matplotlib as mat                    # to visualize \n",
    "import seaborn as sns                       # to visualize\n",
    "import pandas as pd                         # for data reading\n",
    "import numpy as np                          # for numerical computation"
   ]
  },
  {
   "cell_type": "code",
   "execution_count": 2,
   "id": "8cd10e6e",
   "metadata": {},
   "outputs": [
    {
     "name": "stdout",
     "output_type": "stream",
     "text": [
      "Pandas version:  1.3.5\n",
      "Seaborn version:  0.11.2\n",
      "Matplotlib version:  3.5.1\n"
     ]
    }
   ],
   "source": [
    "# Check for the version of the libraries \n",
    "print(\"Pandas version: \",pd.__version__)\n",
    "print(\"Seaborn version: \",sns.__version__)\n",
    "print(\"Matplotlib version: \",mat.__version__)"
   ]
  },
  {
   "cell_type": "markdown",
   "id": "ffc7de96",
   "metadata": {},
   "source": [
    "### Reading the file "
   ]
  },
  {
   "cell_type": "code",
   "execution_count": 3,
   "id": "8d688799",
   "metadata": {},
   "outputs": [],
   "source": [
    "# Ensure that data to be read is in the same working directory. \n",
    "df = pd.read_csv(\"DS1_C6_S2_EmployeeAttrition_Data_Concept.csv\") # read_csv: inbuilt function of pandas to read files "
   ]
  },
  {
   "cell_type": "markdown",
   "id": "a6444338",
   "metadata": {},
   "source": [
    "# Level 0 analysis\n"
   ]
  },
  {
   "cell_type": "markdown",
   "id": "ec14d5b2",
   "metadata": {},
   "source": [
    "### Reading the top 5 rows "
   ]
  },
  {
   "cell_type": "code",
   "execution_count": 4,
   "id": "de261e32",
   "metadata": {},
   "outputs": [
    {
     "data": {
      "text/html": [
       "<div>\n",
       "<style scoped>\n",
       "    .dataframe tbody tr th:only-of-type {\n",
       "        vertical-align: middle;\n",
       "    }\n",
       "\n",
       "    .dataframe tbody tr th {\n",
       "        vertical-align: top;\n",
       "    }\n",
       "\n",
       "    .dataframe thead th {\n",
       "        text-align: right;\n",
       "    }\n",
       "</style>\n",
       "<table border=\"1\" class=\"dataframe\">\n",
       "  <thead>\n",
       "    <tr style=\"text-align: right;\">\n",
       "      <th></th>\n",
       "      <th>Age</th>\n",
       "      <th>Attrition</th>\n",
       "      <th>BusinessTravel</th>\n",
       "      <th>Department</th>\n",
       "      <th>DistanceFromHome</th>\n",
       "      <th>EducationField</th>\n",
       "      <th>EmployeeNumber</th>\n",
       "      <th>EnvironmentSatisfaction</th>\n",
       "      <th>Gender</th>\n",
       "      <th>HourlyRate</th>\n",
       "      <th>...</th>\n",
       "      <th>OverTime</th>\n",
       "      <th>PerformanceRating</th>\n",
       "      <th>RelationshipSatisfaction</th>\n",
       "      <th>TotalWorkingYears</th>\n",
       "      <th>TrainingTimesLastYear</th>\n",
       "      <th>WorkLifeBalance</th>\n",
       "      <th>YearsAtCompany</th>\n",
       "      <th>YearsInCurrentRole</th>\n",
       "      <th>YearsSinceLastPromotion</th>\n",
       "      <th>YearsWithCurrManager</th>\n",
       "    </tr>\n",
       "  </thead>\n",
       "  <tbody>\n",
       "    <tr>\n",
       "      <th>0</th>\n",
       "      <td>41.0</td>\n",
       "      <td>Yes</td>\n",
       "      <td>Travel_Rarely</td>\n",
       "      <td>Sales</td>\n",
       "      <td>1</td>\n",
       "      <td>Life Sciences</td>\n",
       "      <td>1</td>\n",
       "      <td>2</td>\n",
       "      <td>Female</td>\n",
       "      <td>94</td>\n",
       "      <td>...</td>\n",
       "      <td>Yes</td>\n",
       "      <td>3</td>\n",
       "      <td>1</td>\n",
       "      <td>8</td>\n",
       "      <td>0</td>\n",
       "      <td>1</td>\n",
       "      <td>6</td>\n",
       "      <td>4</td>\n",
       "      <td>0</td>\n",
       "      <td>5</td>\n",
       "    </tr>\n",
       "    <tr>\n",
       "      <th>1</th>\n",
       "      <td>49.0</td>\n",
       "      <td>No</td>\n",
       "      <td>Travel_Frequently</td>\n",
       "      <td>Research &amp; Development</td>\n",
       "      <td>8</td>\n",
       "      <td>Life Sciences</td>\n",
       "      <td>2</td>\n",
       "      <td>3</td>\n",
       "      <td>Male</td>\n",
       "      <td>61</td>\n",
       "      <td>...</td>\n",
       "      <td>No</td>\n",
       "      <td>4</td>\n",
       "      <td>4</td>\n",
       "      <td>10</td>\n",
       "      <td>3</td>\n",
       "      <td>3</td>\n",
       "      <td>10</td>\n",
       "      <td>7</td>\n",
       "      <td>1</td>\n",
       "      <td>7</td>\n",
       "    </tr>\n",
       "    <tr>\n",
       "      <th>2</th>\n",
       "      <td>37.0</td>\n",
       "      <td>Yes</td>\n",
       "      <td>Travel_Rarely</td>\n",
       "      <td>Research &amp; Development</td>\n",
       "      <td>2</td>\n",
       "      <td>Other</td>\n",
       "      <td>4</td>\n",
       "      <td>4</td>\n",
       "      <td>Male</td>\n",
       "      <td>92</td>\n",
       "      <td>...</td>\n",
       "      <td>Yes</td>\n",
       "      <td>3</td>\n",
       "      <td>2</td>\n",
       "      <td>7</td>\n",
       "      <td>3</td>\n",
       "      <td>3</td>\n",
       "      <td>0</td>\n",
       "      <td>0</td>\n",
       "      <td>0</td>\n",
       "      <td>0</td>\n",
       "    </tr>\n",
       "    <tr>\n",
       "      <th>3</th>\n",
       "      <td>33.0</td>\n",
       "      <td>No</td>\n",
       "      <td>Travel_Frequently</td>\n",
       "      <td>Research &amp; Development</td>\n",
       "      <td>3</td>\n",
       "      <td>Life Sciences</td>\n",
       "      <td>5</td>\n",
       "      <td>4</td>\n",
       "      <td>Female</td>\n",
       "      <td>56</td>\n",
       "      <td>...</td>\n",
       "      <td>Yes</td>\n",
       "      <td>3</td>\n",
       "      <td>3</td>\n",
       "      <td>8</td>\n",
       "      <td>3</td>\n",
       "      <td>3</td>\n",
       "      <td>8</td>\n",
       "      <td>7</td>\n",
       "      <td>3</td>\n",
       "      <td>0</td>\n",
       "    </tr>\n",
       "    <tr>\n",
       "      <th>4</th>\n",
       "      <td>27.0</td>\n",
       "      <td>No</td>\n",
       "      <td>Travel_Rarely</td>\n",
       "      <td>Research &amp; Development</td>\n",
       "      <td>2</td>\n",
       "      <td>Medical</td>\n",
       "      <td>7</td>\n",
       "      <td>1</td>\n",
       "      <td>Male</td>\n",
       "      <td>40</td>\n",
       "      <td>...</td>\n",
       "      <td>No</td>\n",
       "      <td>3</td>\n",
       "      <td>4</td>\n",
       "      <td>6</td>\n",
       "      <td>3</td>\n",
       "      <td>3</td>\n",
       "      <td>2</td>\n",
       "      <td>2</td>\n",
       "      <td>2</td>\n",
       "      <td>2</td>\n",
       "    </tr>\n",
       "  </tbody>\n",
       "</table>\n",
       "<p>5 rows × 27 columns</p>\n",
       "</div>"
      ],
      "text/plain": [
       "    Age Attrition     BusinessTravel              Department  \\\n",
       "0  41.0       Yes      Travel_Rarely                   Sales   \n",
       "1  49.0        No  Travel_Frequently  Research & Development   \n",
       "2  37.0       Yes      Travel_Rarely  Research & Development   \n",
       "3  33.0        No  Travel_Frequently  Research & Development   \n",
       "4  27.0        No      Travel_Rarely  Research & Development   \n",
       "\n",
       "   DistanceFromHome EducationField  EmployeeNumber  EnvironmentSatisfaction  \\\n",
       "0                 1  Life Sciences               1                        2   \n",
       "1                 8  Life Sciences               2                        3   \n",
       "2                 2          Other               4                        4   \n",
       "3                 3  Life Sciences               5                        4   \n",
       "4                 2        Medical               7                        1   \n",
       "\n",
       "   Gender  HourlyRate  ...  OverTime PerformanceRating  \\\n",
       "0  Female          94  ...       Yes                 3   \n",
       "1    Male          61  ...        No                 4   \n",
       "2    Male          92  ...       Yes                 3   \n",
       "3  Female          56  ...       Yes                 3   \n",
       "4    Male          40  ...        No                 3   \n",
       "\n",
       "   RelationshipSatisfaction TotalWorkingYears  TrainingTimesLastYear  \\\n",
       "0                         1                 8                      0   \n",
       "1                         4                10                      3   \n",
       "2                         2                 7                      3   \n",
       "3                         3                 8                      3   \n",
       "4                         4                 6                      3   \n",
       "\n",
       "   WorkLifeBalance YearsAtCompany YearsInCurrentRole  YearsSinceLastPromotion  \\\n",
       "0                1              6                  4                        0   \n",
       "1                3             10                  7                        1   \n",
       "2                3              0                  0                        0   \n",
       "3                3              8                  7                        3   \n",
       "4                3              2                  2                        2   \n",
       "\n",
       "   YearsWithCurrManager  \n",
       "0                     5  \n",
       "1                     7  \n",
       "2                     0  \n",
       "3                     0  \n",
       "4                     2  \n",
       "\n",
       "[5 rows x 27 columns]"
      ]
     },
     "execution_count": 4,
     "metadata": {},
     "output_type": "execute_result"
    }
   ],
   "source": [
    "df.head() # head prints the top 5 rows "
   ]
  },
  {
   "cell_type": "markdown",
   "id": "3070e454",
   "metadata": {},
   "source": [
    "### Reading the bottom 5 rows"
   ]
  },
  {
   "cell_type": "code",
   "execution_count": 5,
   "id": "663c05f1",
   "metadata": {},
   "outputs": [
    {
     "data": {
      "text/html": [
       "<div>\n",
       "<style scoped>\n",
       "    .dataframe tbody tr th:only-of-type {\n",
       "        vertical-align: middle;\n",
       "    }\n",
       "\n",
       "    .dataframe tbody tr th {\n",
       "        vertical-align: top;\n",
       "    }\n",
       "\n",
       "    .dataframe thead th {\n",
       "        text-align: right;\n",
       "    }\n",
       "</style>\n",
       "<table border=\"1\" class=\"dataframe\">\n",
       "  <thead>\n",
       "    <tr style=\"text-align: right;\">\n",
       "      <th></th>\n",
       "      <th>Age</th>\n",
       "      <th>Attrition</th>\n",
       "      <th>BusinessTravel</th>\n",
       "      <th>Department</th>\n",
       "      <th>DistanceFromHome</th>\n",
       "      <th>EducationField</th>\n",
       "      <th>EmployeeNumber</th>\n",
       "      <th>EnvironmentSatisfaction</th>\n",
       "      <th>Gender</th>\n",
       "      <th>HourlyRate</th>\n",
       "      <th>...</th>\n",
       "      <th>OverTime</th>\n",
       "      <th>PerformanceRating</th>\n",
       "      <th>RelationshipSatisfaction</th>\n",
       "      <th>TotalWorkingYears</th>\n",
       "      <th>TrainingTimesLastYear</th>\n",
       "      <th>WorkLifeBalance</th>\n",
       "      <th>YearsAtCompany</th>\n",
       "      <th>YearsInCurrentRole</th>\n",
       "      <th>YearsSinceLastPromotion</th>\n",
       "      <th>YearsWithCurrManager</th>\n",
       "    </tr>\n",
       "  </thead>\n",
       "  <tbody>\n",
       "    <tr>\n",
       "      <th>1465</th>\n",
       "      <td>36.0</td>\n",
       "      <td>No</td>\n",
       "      <td>NaN</td>\n",
       "      <td>Research &amp; Development</td>\n",
       "      <td>23</td>\n",
       "      <td>Medical</td>\n",
       "      <td>2061</td>\n",
       "      <td>3</td>\n",
       "      <td>Male</td>\n",
       "      <td>41</td>\n",
       "      <td>...</td>\n",
       "      <td>No</td>\n",
       "      <td>3</td>\n",
       "      <td>3</td>\n",
       "      <td>17</td>\n",
       "      <td>3</td>\n",
       "      <td>3</td>\n",
       "      <td>5</td>\n",
       "      <td>2</td>\n",
       "      <td>0</td>\n",
       "      <td>3</td>\n",
       "    </tr>\n",
       "    <tr>\n",
       "      <th>1466</th>\n",
       "      <td>39.0</td>\n",
       "      <td>No</td>\n",
       "      <td>Travel_Rarely</td>\n",
       "      <td>Research &amp; Development</td>\n",
       "      <td>6</td>\n",
       "      <td>Medical</td>\n",
       "      <td>2062</td>\n",
       "      <td>4</td>\n",
       "      <td>Male</td>\n",
       "      <td>42</td>\n",
       "      <td>...</td>\n",
       "      <td>No</td>\n",
       "      <td>3</td>\n",
       "      <td>1</td>\n",
       "      <td>9</td>\n",
       "      <td>5</td>\n",
       "      <td>3</td>\n",
       "      <td>7</td>\n",
       "      <td>7</td>\n",
       "      <td>1</td>\n",
       "      <td>7</td>\n",
       "    </tr>\n",
       "    <tr>\n",
       "      <th>1467</th>\n",
       "      <td>27.0</td>\n",
       "      <td>No</td>\n",
       "      <td>Travel_Rarely</td>\n",
       "      <td>Research &amp; Development</td>\n",
       "      <td>4</td>\n",
       "      <td>Life Sciences</td>\n",
       "      <td>2064</td>\n",
       "      <td>2</td>\n",
       "      <td>Male</td>\n",
       "      <td>87</td>\n",
       "      <td>...</td>\n",
       "      <td>Yes</td>\n",
       "      <td>4</td>\n",
       "      <td>2</td>\n",
       "      <td>6</td>\n",
       "      <td>0</td>\n",
       "      <td>3</td>\n",
       "      <td>6</td>\n",
       "      <td>2</td>\n",
       "      <td>0</td>\n",
       "      <td>3</td>\n",
       "    </tr>\n",
       "    <tr>\n",
       "      <th>1468</th>\n",
       "      <td>49.0</td>\n",
       "      <td>No</td>\n",
       "      <td>Travel_Frequently</td>\n",
       "      <td>Sales</td>\n",
       "      <td>2</td>\n",
       "      <td>Medical</td>\n",
       "      <td>2065</td>\n",
       "      <td>4</td>\n",
       "      <td>Male</td>\n",
       "      <td>63</td>\n",
       "      <td>...</td>\n",
       "      <td>No</td>\n",
       "      <td>3</td>\n",
       "      <td>4</td>\n",
       "      <td>17</td>\n",
       "      <td>3</td>\n",
       "      <td>2</td>\n",
       "      <td>9</td>\n",
       "      <td>6</td>\n",
       "      <td>0</td>\n",
       "      <td>8</td>\n",
       "    </tr>\n",
       "    <tr>\n",
       "      <th>1469</th>\n",
       "      <td>34.0</td>\n",
       "      <td>No</td>\n",
       "      <td>Travel_Rarely</td>\n",
       "      <td>Research &amp; Development</td>\n",
       "      <td>8</td>\n",
       "      <td>Medical</td>\n",
       "      <td>2068</td>\n",
       "      <td>2</td>\n",
       "      <td>Male</td>\n",
       "      <td>82</td>\n",
       "      <td>...</td>\n",
       "      <td>No</td>\n",
       "      <td>3</td>\n",
       "      <td>1</td>\n",
       "      <td>6</td>\n",
       "      <td>3</td>\n",
       "      <td>4</td>\n",
       "      <td>4</td>\n",
       "      <td>3</td>\n",
       "      <td>1</td>\n",
       "      <td>2</td>\n",
       "    </tr>\n",
       "  </tbody>\n",
       "</table>\n",
       "<p>5 rows × 27 columns</p>\n",
       "</div>"
      ],
      "text/plain": [
       "       Age Attrition     BusinessTravel              Department  \\\n",
       "1465  36.0        No                NaN  Research & Development   \n",
       "1466  39.0        No      Travel_Rarely  Research & Development   \n",
       "1467  27.0        No      Travel_Rarely  Research & Development   \n",
       "1468  49.0        No  Travel_Frequently                   Sales   \n",
       "1469  34.0        No      Travel_Rarely  Research & Development   \n",
       "\n",
       "      DistanceFromHome EducationField  EmployeeNumber  \\\n",
       "1465                23        Medical            2061   \n",
       "1466                 6        Medical            2062   \n",
       "1467                 4  Life Sciences            2064   \n",
       "1468                 2        Medical            2065   \n",
       "1469                 8        Medical            2068   \n",
       "\n",
       "      EnvironmentSatisfaction Gender  HourlyRate  ...  OverTime  \\\n",
       "1465                        3   Male          41  ...        No   \n",
       "1466                        4   Male          42  ...        No   \n",
       "1467                        2   Male          87  ...       Yes   \n",
       "1468                        4   Male          63  ...        No   \n",
       "1469                        2   Male          82  ...        No   \n",
       "\n",
       "     PerformanceRating  RelationshipSatisfaction TotalWorkingYears  \\\n",
       "1465                 3                         3                17   \n",
       "1466                 3                         1                 9   \n",
       "1467                 4                         2                 6   \n",
       "1468                 3                         4                17   \n",
       "1469                 3                         1                 6   \n",
       "\n",
       "      TrainingTimesLastYear  WorkLifeBalance YearsAtCompany  \\\n",
       "1465                      3                3              5   \n",
       "1466                      5                3              7   \n",
       "1467                      0                3              6   \n",
       "1468                      3                2              9   \n",
       "1469                      3                4              4   \n",
       "\n",
       "     YearsInCurrentRole  YearsSinceLastPromotion  YearsWithCurrManager  \n",
       "1465                  2                        0                     3  \n",
       "1466                  7                        1                     7  \n",
       "1467                  2                        0                     3  \n",
       "1468                  6                        0                     8  \n",
       "1469                  3                        1                     2  \n",
       "\n",
       "[5 rows x 27 columns]"
      ]
     },
     "execution_count": 5,
     "metadata": {},
     "output_type": "execute_result"
    }
   ],
   "source": [
    "df.tail() # tail returns the bottom 5 rows"
   ]
  },
  {
   "cell_type": "markdown",
   "id": "35933eeb",
   "metadata": {},
   "source": [
    "###  Number of rows and columns "
   ]
  },
  {
   "cell_type": "code",
   "execution_count": 6,
   "id": "4f0d47d7",
   "metadata": {},
   "outputs": [
    {
     "name": "stdout",
     "output_type": "stream",
     "text": [
      "(1470, 27)\n"
     ]
    }
   ],
   "source": [
    "print(df.shape) #returns a tuple of number of rows and columns "
   ]
  },
  {
   "cell_type": "markdown",
   "id": "2a40d5d8",
   "metadata": {},
   "source": [
    "### Names of all the columns"
   ]
  },
  {
   "cell_type": "code",
   "execution_count": 12,
   "id": "92253f94",
   "metadata": {},
   "outputs": [
    {
     "name": "stdout",
     "output_type": "stream",
     "text": [
      "Index(['Age', 'Attrition', 'BusinessTravel', 'Department', 'DistanceFromHome',\n",
      "       'EducationField', 'EmployeeNumber', 'EnvironmentSatisfaction', 'Gender',\n",
      "       'HourlyRate', 'JobInvolvement', 'JobRole', 'JobSatisfaction',\n",
      "       'MaritalStatus', 'MonthlyIncome', 'NumCompaniesWorked', 'Over18',\n",
      "       'OverTime', 'PerformanceRating', 'RelationshipSatisfaction',\n",
      "       'TotalWorkingYears', 'TrainingTimesLastYear', 'WorkLifeBalance',\n",
      "       'YearsAtCompany', 'YearsInCurrentRole', 'YearsSinceLastPromotion',\n",
      "       'YearsWithCurrManager'],\n",
      "      dtype='object')\n"
     ]
    }
   ],
   "source": [
    "print(df.columns) # returns array of columns in dataset "
   ]
  },
  {
   "cell_type": "markdown",
   "id": "afadf734",
   "metadata": {},
   "source": [
    "### Dataset information"
   ]
  },
  {
   "cell_type": "code",
   "execution_count": 13,
   "id": "3b9e32a3",
   "metadata": {},
   "outputs": [
    {
     "name": "stdout",
     "output_type": "stream",
     "text": [
      "<class 'pandas.core.frame.DataFrame'>\n",
      "RangeIndex: 1470 entries, 0 to 1469\n",
      "Data columns (total 27 columns):\n",
      " #   Column                    Non-Null Count  Dtype  \n",
      "---  ------                    --------------  -----  \n",
      " 0   Age                       1446 non-null   float64\n",
      " 1   Attrition                 1470 non-null   object \n",
      " 2   BusinessTravel            1440 non-null   object \n",
      " 3   Department                1466 non-null   object \n",
      " 4   DistanceFromHome          1470 non-null   int64  \n",
      " 5   EducationField            1458 non-null   object \n",
      " 6   EmployeeNumber            1470 non-null   int64  \n",
      " 7   EnvironmentSatisfaction   1470 non-null   int64  \n",
      " 8   Gender                    1425 non-null   object \n",
      " 9   HourlyRate                1470 non-null   int64  \n",
      " 10  JobInvolvement            1470 non-null   int64  \n",
      " 11  JobRole                   1460 non-null   object \n",
      " 12  JobSatisfaction           1470 non-null   int64  \n",
      " 13  MaritalStatus             1414 non-null   object \n",
      " 14  MonthlyIncome             1470 non-null   int64  \n",
      " 15  NumCompaniesWorked        1470 non-null   int64  \n",
      " 16  Over18                    1416 non-null   object \n",
      " 17  OverTime                  1470 non-null   object \n",
      " 18  PerformanceRating         1470 non-null   int64  \n",
      " 19  RelationshipSatisfaction  1470 non-null   int64  \n",
      " 20  TotalWorkingYears         1470 non-null   int64  \n",
      " 21  TrainingTimesLastYear     1470 non-null   int64  \n",
      " 22  WorkLifeBalance           1470 non-null   int64  \n",
      " 23  YearsAtCompany            1470 non-null   int64  \n",
      " 24  YearsInCurrentRole        1470 non-null   int64  \n",
      " 25  YearsSinceLastPromotion   1470 non-null   int64  \n",
      " 26  YearsWithCurrManager      1470 non-null   int64  \n",
      "dtypes: float64(1), int64(17), object(9)\n",
      "memory usage: 310.2+ KB\n"
     ]
    }
   ],
   "source": [
    "df.info()       # returns the information about the dataset"
   ]
  },
  {
   "cell_type": "markdown",
   "id": "4c0aaf39",
   "metadata": {},
   "source": [
    "### Checking if there are null values in any columns"
   ]
  },
  {
   "cell_type": "code",
   "execution_count": 14,
   "id": "33afe59e",
   "metadata": {},
   "outputs": [
    {
     "data": {
      "text/plain": [
       "Age                         24\n",
       "Attrition                    0\n",
       "BusinessTravel              30\n",
       "Department                   4\n",
       "DistanceFromHome             0\n",
       "EducationField              12\n",
       "EmployeeNumber               0\n",
       "EnvironmentSatisfaction      0\n",
       "Gender                      45\n",
       "HourlyRate                   0\n",
       "JobInvolvement               0\n",
       "JobRole                     10\n",
       "JobSatisfaction              0\n",
       "MaritalStatus               56\n",
       "MonthlyIncome                0\n",
       "NumCompaniesWorked           0\n",
       "Over18                      54\n",
       "OverTime                     0\n",
       "PerformanceRating            0\n",
       "RelationshipSatisfaction     0\n",
       "TotalWorkingYears            0\n",
       "TrainingTimesLastYear        0\n",
       "WorkLifeBalance              0\n",
       "YearsAtCompany               0\n",
       "YearsInCurrentRole           0\n",
       "YearsSinceLastPromotion      0\n",
       "YearsWithCurrManager         0\n",
       "dtype: int64"
      ]
     },
     "execution_count": 14,
     "metadata": {},
     "output_type": "execute_result"
    }
   ],
   "source": [
    "df.isnull().sum()       # isnull returns the True/False dataframe\n",
    "                            #sum: counts the number of True in columns"
   ]
  },
  {
   "cell_type": "markdown",
   "id": "6c93fa51",
   "metadata": {},
   "source": [
    "# LEVEL 1 Analysis \n",
    "-------------------------\n",
    "Identify the type of data in each column (categorical or numerical)?\n",
    "1. Seperate out the categorical columns from the numerical types\n",
    "\n",
    "### Following are the kinds of analysis that can be performed on categorical data:\n",
    "1. Check if the variable is  Nominal or Ordinal.\n",
    "2. Check how many categories are present in a variable.\n",
    "3. Check the Mode of a variable.\n",
    "4. Check for Missing values of a variable.\n",
    "5. Think how the missing values could be treated.\n",
    "6. What kind of graph/chart can be plotted using this data.\n",
    "\n",
    "Note: We are analyzing only one column at a time (a.k.a. Univariate Analysis)"
   ]
  },
  {
   "cell_type": "markdown",
   "id": "3de70c0b",
   "metadata": {},
   "source": [
    "### Separating Categorical and Numerical Variables"
   ]
  },
  {
   "cell_type": "code",
   "execution_count": 15,
   "id": "f050a02f",
   "metadata": {},
   "outputs": [
    {
     "name": "stdout",
     "output_type": "stream",
     "text": [
      "categorical               continuous\n",
      "------------------------  --------------\n",
      "Attrition                 Age\n",
      "BusinessTravel            EmployeeNumber\n",
      "Department                HourlyRate\n",
      "DistanceFromHome          MonthlyIncome\n",
      "EducationField\n",
      "EnvironmentSatisfaction\n",
      "Gender\n",
      "JobInvolvement\n",
      "JobRole\n",
      "JobSatisfaction\n",
      "MaritalStatus\n",
      "NumCompaniesWorked\n",
      "Over18\n",
      "OverTime\n",
      "PerformanceRating\n",
      "RelationshipSatisfaction\n",
      "TotalWorkingYears\n",
      "TrainingTimesLastYear\n",
      "WorkLifeBalance\n",
      "YearsAtCompany\n",
      "YearsInCurrentRole\n",
      "YearsSinceLastPromotion\n",
      "YearsWithCurrManager\n"
     ]
    }
   ],
   "source": [
    "# Seprating out the categorical and continuous variables\n",
    "def seprate_data_types(df):\n",
    "    categorical = []\n",
    "    continuous = []\n",
    "    for column in df.columns:                # looping on the number of columns\n",
    "        if df[column].nunique() < 43:       # nunique:  returns unique values in the column,\n",
    "                                                    #here 43 is the hyperparamter and can be changed\n",
    "            categorical.append(column)\n",
    "        else:\n",
    "            continuous.append(column)\n",
    "            \n",
    "    return categorical, continuous \n",
    "\n",
    "\n",
    "categorical, continuous = seprate_data_types(df)         # Calling the function\n",
    "\n",
    "# # Tabulate is a package used to print the list, dict or any data sets in a proper format; in table format\n",
    "from tabulate import tabulate\n",
    "table = [categorical, continuous]\n",
    "print(tabulate({\"Categorical\":categorical,\n",
    "                \"Continuous\": continuous}, headers = [\"categorical\", \"continuous\"]))"
   ]
  },
  {
   "cell_type": "markdown",
   "id": "78bb0239",
   "metadata": {},
   "source": [
    "\n",
    "# $$\\;\\;\\;\\; Univariate \\ Analysis \\ of \\ Categorical \\ Variables$$"
   ]
  },
  {
   "cell_type": "markdown",
   "id": "7d9fdaa1",
   "metadata": {},
   "source": [
    "## Level 1 Analysis"
   ]
  },
  {
   "cell_type": "markdown",
   "id": "59b27c1f",
   "metadata": {},
   "source": [
    "### User defined functions for level 1 analysis of categorical columns\n",
    "This function will check for the following:\n",
    "\n",
    "\n",
    "- unique values \n",
    "- mode \n",
    "- sum of all the null values \n",
    "- Total count of missing values"
   ]
  },
  {
   "cell_type": "code",
   "execution_count": 16,
   "id": "078e5a80",
   "metadata": {},
   "outputs": [],
   "source": [
    "def info_of_cat(col): \n",
    "    print(f\"Unique values in {col} are: {df[col].unique()}\") # unique: returns the unique values in the col\n",
    "    print(f\"Mode of {col} is {df[col].mode()[0]}\")  # mode: returns the mode of the column\n",
    "    print(f\"Number of missing values in {col} is {df[col].isnull().sum()}\") # isnull().sum() counts the number of null in dataframe\n",
    "    if df[col].isnull().sum() > 0:  # check if null values are present\n",
    "        print(f\"\\nThere are null values in the {col} column\")\n",
    "    "
   ]
  },
  {
   "cell_type": "markdown",
   "id": "c21b1caf",
   "metadata": {},
   "source": [
    "# 1. Analysis of Attrition:  \n",
    "LEVEL 1 Analysis of Categorical Data (Univariate Analysis) "
   ]
  },
  {
   "cell_type": "code",
   "execution_count": 17,
   "id": "79882903",
   "metadata": {},
   "outputs": [
    {
     "name": "stdout",
     "output_type": "stream",
     "text": [
      "Unique values in Attrition are: ['Yes' 'No']\n",
      "Mode of Attrition is No\n",
      "Number of missing values in Attrition is 0\n"
     ]
    }
   ],
   "source": [
    "info_of_cat(\"Attrition\") #function returns all the information required for the level 1 analysis"
   ]
  },
  {
   "cell_type": "markdown",
   "id": "8c477bd0",
   "metadata": {},
   "source": [
    "###### Attrition Flag is a nominal data type."
   ]
  },
  {
   "cell_type": "code",
   "execution_count": 18,
   "id": "2e9c3ff5",
   "metadata": {},
   "outputs": [
    {
     "data": {
      "image/png": "[encoded data removed]",
      "text/plain": [
       "<Figure size 1080x504 with 2 Axes>"
      ]
     },
     "metadata": {
      "needs_background": "light"
     },
     "output_type": "display_data"
    }
   ],
   "source": [
    "fig, ax = plt.subplots(1, 2, figsize = (15, 7))\n",
    "ax[0].set_title(\"Count of Attrition\")                  # Set the title of the graph\n",
    "percentage = df[\"Attrition\"].value_counts()         # value_counts: returns the count of values in series: return series\n",
    "labels = list(df[\"Attrition\"].value_counts().index) # Converting the index of value counts into list\n",
    "\n",
    "sns.countplot(x = df[\"Attrition\"], ax = ax[0])\n",
    "plt.pie(percentage,labels = labels, autopct= \"%0.2f%%\")  # autopct: to print the percentage on pie wedge. 2 decimal points used \n",
    "\n",
    "plt.show()"
   ]
  },
  {
   "cell_type": "markdown",
   "id": "cb51c9e0",
   "metadata": {},
   "source": [
    "## ***Interpretation: The results show that only 16% of the employees have left the firm while 83.9% are still working with the firm."
   ]
  },
  {
   "cell_type": "markdown",
   "id": "f38454f3",
   "metadata": {},
   "source": [
    "\n",
    "# 2. Analysis of  BusinessTravel: \n",
    "LEVEL 1 Analysis of Categorical Data (Univariate Analysis) "
   ]
  },
  {
   "cell_type": "code",
   "execution_count": 19,
   "id": "bbf71fb7",
   "metadata": {},
   "outputs": [
    {
     "name": "stdout",
     "output_type": "stream",
     "text": [
      "Unique values in BusinessTravel are: ['Travel_Rarely' 'Travel_Frequently' 'Non-Travel' nan]\n",
      "Mode of BusinessTravel is Travel_Rarely\n",
      "Number of missing values in BusinessTravel is 30\n",
      "\n",
      "There are null values in the BusinessTravel column\n"
     ]
    }
   ],
   "source": [
    "info_of_cat(\"BusinessTravel\")"
   ]
  },
  {
   "cell_type": "markdown",
   "id": "12f5c0e2",
   "metadata": {},
   "source": [
    "#### Business Travel is a nominal data type."
   ]
  },
  {
   "cell_type": "markdown",
   "id": "05a22738",
   "metadata": {},
   "source": [
    "Missing value Treatment: Mode of Business Travel\n",
    "\n",
    "Note: Mode is not the appropriate way to fill the missing value data as this data belongs to the employees of IBM. If the person is traveling frequently and null values are filled with the mode values of those employees who travel rarely, it might lead to the wrong interpretation. \n",
    "\n",
    "However, we are replacing the null values with mode for the purpose of demonstration. The appropriate way is to ask the concerned team/individuals for the data. In the event of data not available, we could fill it with zero values. "
   ]
  },
  {
   "cell_type": "code",
   "execution_count": 20,
   "id": "ae98a8ca",
   "metadata": {},
   "outputs": [
    {
     "name": "stdout",
     "output_type": "stream",
     "text": [
      "Travel_Rarely\n"
     ]
    }
   ],
   "source": [
    "bt_mode = df[\"BusinessTravel\"].mode()[0]\n",
    "print(bt_mode)\n",
    "df[\"BusinessTravel\"].fillna(bt_mode, inplace = True, axis = 0)"
   ]
  },
  {
   "cell_type": "code",
   "execution_count": 21,
   "id": "accd0c8a",
   "metadata": {},
   "outputs": [
    {
     "data": {
      "image/png": "[encoded data removed]",
      "text/plain": [
       "<Figure size 1080x504 with 2 Axes>"
      ]
     },
     "metadata": {
      "needs_background": "light"
     },
     "output_type": "display_data"
    }
   ],
   "source": [
    "fig, ax = plt.subplots(1, 2, figsize = (15, 7))\n",
    "ax[0].set_title(\"Count of Business Travel\")              # Set the title of the graph\n",
    "percentage = df[\"BusinessTravel\"].value_counts()         # value_counts: returns the count of values in series: return series\n",
    "labels = list(df[\"BusinessTravel\"].value_counts().index) # Converting the index of value counts into list\n",
    "\n",
    "sns.countplot(x = df[\"BusinessTravel\"], ax = ax[0])\n",
    "plt.pie(percentage,labels = labels, autopct= \"%0.2f%%\")  # autopct: to print the percentage on pie wedge. 2 decimal points used \n",
    "plt.show()"
   ]
  },
  {
   "cell_type": "markdown",
   "id": "e41b4127",
   "metadata": {},
   "source": [
    "## ***Interpretation: Majority of the employees are travelling rarely for business purposes. "
   ]
  },
  {
   "cell_type": "markdown",
   "id": "4058c25f",
   "metadata": {},
   "source": [
    "# 3. Analysis of Department: \n",
    "LEVEL 1 Analysis of Categorical Data (Univariate Analysis) "
   ]
  },
  {
   "cell_type": "code",
   "execution_count": 22,
   "id": "40c2d57e",
   "metadata": {},
   "outputs": [
    {
     "name": "stdout",
     "output_type": "stream",
     "text": [
      "Unique values in Department are: ['Sales' 'Research & Development' 'Human Resources' nan]\n",
      "Mode of Department is Research & Development\n",
      "Number of missing values in Department is 4\n",
      "\n",
      "There are null values in the Department column\n"
     ]
    }
   ],
   "source": [
    "info_of_cat(\"Department\")"
   ]
  },
  {
   "cell_type": "markdown",
   "id": "83e5dcab",
   "metadata": {},
   "source": [
    "#### Department is a nominal datatype."
   ]
  },
  {
   "cell_type": "markdown",
   "id": "7b94773f",
   "metadata": {},
   "source": [
    "##   Missing value treatment: Mode of the Department\n",
    "\n",
    "Note: Mode is not a perfect way to  way to fill the missing value in this case. One might need to handle such a situation with caution. This is for demonstration purposes only. "
   ]
  },
  {
   "cell_type": "code",
   "execution_count": 23,
   "id": "0c62f392",
   "metadata": {},
   "outputs": [
    {
     "name": "stdout",
     "output_type": "stream",
     "text": [
      "Research & Development\n"
     ]
    }
   ],
   "source": [
    "department_mode = df.Department.mode()[0]\n",
    "print(department_mode)\n",
    "df[\"Department\"].fillna(department_mode, inplace = True)"
   ]
  },
  {
   "cell_type": "code",
   "execution_count": 24,
   "id": "3115a975",
   "metadata": {},
   "outputs": [
    {
     "data": {
      "image/png": "[encoded data removed]",
      "text/plain": [
       "<Figure size 1080x504 with 2 Axes>"
      ]
     },
     "metadata": {
      "needs_background": "light"
     },
     "output_type": "display_data"
    }
   ],
   "source": [
    "fig, ax = plt.subplots(1, 2, figsize = (15, 7))\n",
    "data = df[\"Department\"].value_counts()                                  # Value count is an inbuilt function to calculate the number of classes                                                                       #in gender columns\n",
    "labels =data.keys()                                                  #data keys provide the index names but this function provides the columns \n",
    "                                                                     #names if called on dataframe\n",
    "sns.countplot(x = df[\"Department\"], ax = ax[0])\n",
    "plt.pie(x = data, autopct = \"%.1f%%\", labels = labels, pctdistance = 0.5) # pctdistance is the distance between the percentage\n",
    "                                                                     # on pie chart from center.\n",
    "                                                                     #  explode is to split the slices by the distance provided\n",
    "                                                                     # autopct: is used to print the number on pie slices.  \n",
    "\n",
    "plt.show()\n"
   ]
  },
  {
   "cell_type": "markdown",
   "id": "ae3ea1fd",
   "metadata": {},
   "source": [
    "## ***Interpretation: 65% of the employees are working in Research and Development department where 30% are from Sales and only 4% are from HR. \n"
   ]
  },
  {
   "cell_type": "markdown",
   "id": "25c96657",
   "metadata": {},
   "source": [
    "# 4. Analysis of DistanceFromHome: \n",
    "LEVEL 1 Analysis of Categorical Data (Univariate Analysis) "
   ]
  },
  {
   "cell_type": "code",
   "execution_count": 25,
   "id": "95faa3e3",
   "metadata": {},
   "outputs": [
    {
     "name": "stdout",
     "output_type": "stream",
     "text": [
      "Unique values in DistanceFromHome are: [ 1  8  2  3 24 23 27 16 15 26 19 21  5 11  9  7  6 10  4 25 12 18 29 22\n",
      " 14 20 28 17 13]\n",
      "Mode of DistanceFromHome is 2\n",
      "Number of missing values in DistanceFromHome is 0\n"
     ]
    }
   ],
   "source": [
    "info_of_cat(\"DistanceFromHome\") # check for the unique values in the feature"
   ]
  },
  {
   "cell_type": "markdown",
   "id": "d13f59de",
   "metadata": {},
   "source": [
    "###### Dependent_count is a discrete data (Numerical).\n",
    "Our user defined function has mislabelled this column as categorical. We are correcting it as below.  "
   ]
  },
  {
   "cell_type": "code",
   "execution_count": 26,
   "id": "ab8d2200",
   "metadata": {},
   "outputs": [],
   "source": [
    "categorical.remove(\"DistanceFromHome\")\n",
    "continuous.append(\"DistanceFromHome\")"
   ]
  },
  {
   "cell_type": "markdown",
   "id": "85db2829",
   "metadata": {},
   "source": [
    "# 5. Analysis of EducationField: \n",
    "LEVEL 1 Analysis of Categorical Data (Univariate Analysis) "
   ]
  },
  {
   "cell_type": "code",
   "execution_count": 27,
   "id": "d8761a05",
   "metadata": {},
   "outputs": [
    {
     "name": "stdout",
     "output_type": "stream",
     "text": [
      "Unique values in EducationField are: ['Life Sciences' 'Other' 'Medical' 'Marketing' nan 'Technical Degree'\n",
      " 'Human Resources']\n",
      "Mode of EducationField is Life Sciences\n",
      "Number of missing values in EducationField is 12\n",
      "\n",
      "There are null values in the EducationField column\n"
     ]
    }
   ],
   "source": [
    "info_of_cat(\"EducationField\") # check for the unique values in the feature"
   ]
  },
  {
   "cell_type": "markdown",
   "id": "c3823812",
   "metadata": {},
   "source": [
    "######  EducationField is a nominal data type (Categorical)."
   ]
  },
  {
   "cell_type": "markdown",
   "id": "10a1f92f",
   "metadata": {},
   "source": [
    "##   Missing value treatment: Mode of the EducationField\n",
    "\n",
    "Note: Mode is not a perfect way to way to fill the missing value in this case. One might need to handle such a situation with caution. This is for demonstration purposes only."
   ]
  },
  {
   "cell_type": "code",
   "execution_count": 28,
   "id": "92a1a0ef",
   "metadata": {},
   "outputs": [
    {
     "name": "stdout",
     "output_type": "stream",
     "text": [
      "Life Sciences\n"
     ]
    }
   ],
   "source": [
    "ed_mode = df.EducationField.mode()[0]\n",
    "print(ed_mode)\n",
    "df[\"EducationField\"].fillna(ed_mode, inplace = True)"
   ]
  },
  {
   "cell_type": "code",
   "execution_count": 29,
   "id": "f023f966",
   "metadata": {},
   "outputs": [
    {
     "data": {
      "image/png": "[encoded data removed]",
      "text/plain": [
       "<Figure size 1080x504 with 2 Axes>"
      ]
     },
     "metadata": {
      "needs_background": "light"
     },
     "output_type": "display_data"
    }
   ],
   "source": [
    "fig, ax = plt.subplots(1, 2, figsize = (15, 7))\n",
    "data = df[\"EducationField\"].value_counts()                                  # Value count is an inbuilt function to calculate the number of classes                                                                       #in gender columns\n",
    "labels =data.keys()                                                  #data keys provide the index names but this function provides the columns \n",
    "                                                                     #names if called on dataframe\n",
    "sns.countplot(x = df[\"EducationField\"], ax = ax[0])\n",
    "plt.pie(x = data, autopct = \"%.1f%%\", labels = labels, pctdistance = 0.5) # pctdistance is the distance between the percentage\n",
    "                                                                     # on pie chart from center.\n",
    "                                                                     #  explode is to split the slices by the distance provided\n",
    "                                                                     # autopct: is used to print the number on pie slices.  \n",
    "\n",
    "plt.show()\n"
   ]
  },
  {
   "cell_type": "markdown",
   "id": "235d7aff",
   "metadata": {},
   "source": [
    "## ***Interpretation: 73% of the employees are from Medical or Life Science backgrounds."
   ]
  },
  {
   "cell_type": "markdown",
   "id": "8abe7d2d",
   "metadata": {},
   "source": [
    "# 6. Analysis of EnvironmentSatisfaction: \n",
    "LEVEL 1 Analysis of Categorical Data (Univariate Analysis) "
   ]
  },
  {
   "cell_type": "code",
   "execution_count": 30,
   "id": "9c33efb3",
   "metadata": {},
   "outputs": [
    {
     "name": "stdout",
     "output_type": "stream",
     "text": [
      "Unique values in EnvironmentSatisfaction are: [2 3 4 1]\n",
      "Mode of EnvironmentSatisfaction is 3\n",
      "Number of missing values in EnvironmentSatisfaction is 0\n"
     ]
    }
   ],
   "source": [
    "info_of_cat(\"EnvironmentSatisfaction\") # check for the unique values in the feature"
   ]
  },
  {
   "cell_type": "markdown",
   "id": "58fa0f97",
   "metadata": {},
   "source": [
    "###### EnvironmentSatisfaction is a ordinal datatype (Categorical) as it is having hierarchy in it."
   ]
  },
  {
   "cell_type": "code",
   "execution_count": 31,
   "id": "fedb8729",
   "metadata": {},
   "outputs": [
    {
     "data": {
      "image/png": "[encoded data removed]",
      "text/plain": [
       "<Figure size 720x504 with 1 Axes>"
      ]
     },
     "metadata": {
      "needs_background": "light"
     },
     "output_type": "display_data"
    }
   ],
   "source": [
    "fig, ax = plt.subplots(figsize= (10, 7))\n",
    "ax = sns.countplot(x = df[\"EnvironmentSatisfaction\"])\n",
    "for bar in ax.patches:                                              # ax.patches returns the rectange object from matplotlib\n",
    "    percentage = f\"{round((bar.get_height() /len(df))*100, 2)}%\"          # first it calculate the bar height and then dividing by the number of rows in data(to calculate percentage) \n",
    "                                                                    # and multiply with 100 to get the percentage and rounding of by 2 numbers.  \n",
    "    x = bar.get_x() + bar.get_width() /2                            # get_x: returns the left corrdinate of the rectange, get_width: returns width of rectagle\n",
    "    y = bar.get_height()                                            # get_height: returns height of rectange\n",
    "    ax.annotate(percentage, (x, y), va = \"bottom\", ha =\"center\" )   # va bottom: means percentage would be above the bar head. \n",
    "                                                                    # annotate: used to annotate over objects, here objects are the bars\n",
    "plt.show()"
   ]
  },
  {
   "cell_type": "markdown",
   "id": "802562e3",
   "metadata": {},
   "source": [
    "## ***Interpretation: 38% of the employees have lower Environment Satisfaction.\n",
    "---> 1 and 2 are assigned with the lower environment satisfaction category."
   ]
  },
  {
   "cell_type": "markdown",
   "id": "321101e9",
   "metadata": {},
   "source": [
    "# 7. Analysis of Gender: \n",
    "LEVEL 1 Analysis of Categorical Data (Univariate Analysis)"
   ]
  },
  {
   "cell_type": "code",
   "execution_count": 32,
   "id": "01ff09c6",
   "metadata": {},
   "outputs": [
    {
     "name": "stdout",
     "output_type": "stream",
     "text": [
      "Unique values in Gender are: ['Female' 'Male' nan]\n",
      "Mode of Gender is Male\n",
      "Number of missing values in Gender is 45\n",
      "\n",
      "There are null values in the Gender column\n"
     ]
    }
   ],
   "source": [
    "info_of_cat(\"Gender\")"
   ]
  },
  {
   "cell_type": "markdown",
   "id": "bf0e674d",
   "metadata": {},
   "source": [
    "###### Gender is a nominal datatype (Categorical)."
   ]
  },
  {
   "cell_type": "markdown",
   "id": "0ac437ee",
   "metadata": {},
   "source": [
    "# Missing Value Treatment: Gender Column\n",
    "Note: One should be careful while filling the gender column. The right approach would be to reach out to the concerned team/individual to collect the data. The best approach would be to leave it blank."
   ]
  },
  {
   "cell_type": "code",
   "execution_count": 33,
   "id": "9968fcff",
   "metadata": {},
   "outputs": [],
   "source": [
    "df[\"Gender\"].fillna(\"Not Known\", inplace = True)"
   ]
  },
  {
   "cell_type": "code",
   "execution_count": 34,
   "id": "42831125",
   "metadata": {},
   "outputs": [
    {
     "data": {
      "image/png": "[encoded data removed]",
      "text/plain": [
       "<Figure size 720x504 with 1 Axes>"
      ]
     },
     "metadata": {
      "needs_background": "light"
     },
     "output_type": "display_data"
    }
   ],
   "source": [
    "# Plot the graph-\n",
    "fig, ax = plt.subplots(figsize= (10, 7))\n",
    "ax = sns.countplot(x = df[\"Gender\"])\n",
    "ax.set_xticklabels(ax.get_xticklabels(), rotation = 40 , ha = \"right\") # set_xticklabels is used to set the labels of the x axis\n",
    "                                                                       # ax.get_xtickslabels() returns all the labels that we need to print\n",
    "                                                                       # rotation: rotate the xlabels at angle provided, and\n",
    "                                                                       # ha: Horizontal axis:-> how you want to keep it. can be changed to center, left, right\n",
    "count = len(df[\"Gender\"])                                     # counting the number of rows in whole dataset\n",
    "for bar in ax.patches:                                                 # ax.patches returns the rectange object from matplotlib \n",
    "    percentage = f\"{round((bar.get_height()/count)*100, 2)} %\"           # first it calculate the bar heightand then dividing by the number of row(to calculate percentage)\n",
    "                                                                            # in data and multiply with 100 to get the percentage and rounding of by 2 numbers.  \n",
    "    x = bar.get_x() + bar.get_width() /2                                # get_x: returns the left corrdinate of the rectange, get_width: returns width of rectagle\n",
    "    y = bar.get_height()                                                # get_height: returns height of rectangle bar.\n",
    "    ax.annotate(percentage, (x, y), ha = \"center\", va = \"top\")          # va: Vertical axis: -> top means percentage would bneath the bar head\n",
    "                                                                        # annotate: used to annotate over objects. here objects are the bars \n",
    "plt.show()"
   ]
  },
  {
   "cell_type": "markdown",
   "id": "2545fd6f",
   "metadata": {},
   "source": [
    "## ***Interpretation: 57% of the employees are males and 39% are females."
   ]
  },
  {
   "cell_type": "markdown",
   "id": "2f4605c5",
   "metadata": {},
   "source": [
    "# 8. Analysis of MaritalStatus: \n",
    "LEVEL 1 Analysis of Categorical Data (Univariate Analysis)"
   ]
  },
  {
   "cell_type": "code",
   "execution_count": 35,
   "id": "4e407a71",
   "metadata": {},
   "outputs": [
    {
     "name": "stdout",
     "output_type": "stream",
     "text": [
      "Unique values in MaritalStatus are: ['Single' 'Married' nan 'Divorced']\n",
      "Mode of MaritalStatus is Married\n",
      "Number of missing values in MaritalStatus is 56\n",
      "\n",
      "There are null values in the MaritalStatus column\n"
     ]
    }
   ],
   "source": [
    "info_of_cat(\"MaritalStatus\")"
   ]
  },
  {
   "cell_type": "markdown",
   "id": "412f606d",
   "metadata": {},
   "source": [
    "###### Marital_Status is a nominal datatype (Categorical)."
   ]
  },
  {
   "cell_type": "markdown",
   "id": "2cc45f2c",
   "metadata": {},
   "source": [
    "# Missing Value Treatment:\n",
    "Note: Mode is not the best approach to fill the missing value for the Marital Status of a person. It is better to leave it blank in this case or reach out to the concerned team/individual to collect the data. "
   ]
  },
  {
   "cell_type": "code",
   "execution_count": 36,
   "id": "ab66260b",
   "metadata": {},
   "outputs": [],
   "source": [
    "df[\"MaritalStatus\"].fillna(\"Not known\", inplace = True)"
   ]
  },
  {
   "cell_type": "markdown",
   "id": "aec0a623",
   "metadata": {},
   "source": [
    "# Analyzing it again"
   ]
  },
  {
   "cell_type": "code",
   "execution_count": 37,
   "id": "7335d82b",
   "metadata": {},
   "outputs": [
    {
     "name": "stdout",
     "output_type": "stream",
     "text": [
      "Married      44.217687\n",
      "Single       30.544218\n",
      "Divorced     21.428571\n",
      "Not known     3.809524\n",
      "Name: MaritalStatus, dtype: float64\n"
     ]
    },
    {
     "data": {
      "image/png": "[encoded data removed]",
      "text/plain": [
       "<Figure size 720x288 with 1 Axes>"
      ]
     },
     "metadata": {
      "needs_background": "light"
     },
     "output_type": "display_data"
    }
   ],
   "source": [
    "print((df[\"MaritalStatus\"].value_counts()/len(df))*100)               #First calculated the number of marital status via value counts inbuilt function and then \n",
    "                                                                            #calculated the percentage of it.\n",
    "fig, ax = plt.subplots(figsize = (10, 4))\n",
    "sns.countplot(x = df[ 'MaritalStatus'], ax = ax)\n",
    "for bar in ax.patches:                                                  # ax.patches returns the rectange object from matplotlib\n",
    "    percentage = f\"{round((bar.get_height() /df.shape[0])*100 , 2)} %\"  # first it calculate the bar height and then dividing by the number of rows in data and \n",
    "                                                                            #multiply with 100 to get the percentage and rounding of by 2 numbers.  \n",
    "    x = bar.get_x() + bar.get_width() /2                                # get_x: returns the left corrdinate of the rectange, get_width: returns width of rectagle\n",
    "    y = bar.get_height()                                                # get_height: returns height of rectange\n",
    "    ax.annotate(percentage, (x, y), va= \"bottom\", ha = \"center\" )       # annotate: used to annotate over objects. here objects are the bars.\n",
    "plt.show()"
   ]
  },
  {
   "cell_type": "markdown",
   "id": "35022fa8",
   "metadata": {},
   "source": [
    "## ***Interpretation: 44% of the employees are married and 30% of them have Single relationship status. "
   ]
  },
  {
   "cell_type": "markdown",
   "id": "3befdd5c",
   "metadata": {},
   "source": [
    "# 9. Analysis of Over18: \n",
    "LEVEL 1 Analysis of Categorical Data (Univariate Analysis)"
   ]
  },
  {
   "cell_type": "code",
   "execution_count": 38,
   "id": "d5170ee0",
   "metadata": {},
   "outputs": [
    {
     "name": "stdout",
     "output_type": "stream",
     "text": [
      "Unique values in Over18 are: ['Y' nan]\n",
      "Mode of Over18 is Y\n",
      "Number of missing values in Over18 is 54\n",
      "\n",
      "There are null values in the Over18 column\n"
     ]
    }
   ],
   "source": [
    "info_of_cat(\"Over18\")"
   ]
  },
  {
   "cell_type": "markdown",
   "id": "30f46279",
   "metadata": {},
   "source": [
    "###### Over18 is a nominal datatype, there is just one category in the over18 column."
   ]
  },
  {
   "cell_type": "markdown",
   "id": "451cb86e",
   "metadata": {},
   "source": [
    "## Missing value Treatment: Mode of the Category"
   ]
  },
  {
   "cell_type": "code",
   "execution_count": 39,
   "id": "b1e501fb",
   "metadata": {},
   "outputs": [],
   "source": [
    "mode = df[\"Over18\"].mode()[0]\n",
    "df[\"Over18\"].fillna(mode, inplace = True, axis = 0)"
   ]
  },
  {
   "cell_type": "code",
   "execution_count": 40,
   "id": "86874fb1",
   "metadata": {},
   "outputs": [
    {
     "data": {
      "image/png": "[encoded data removed]",
      "text/plain": [
       "<Figure size 1080x504 with 1 Axes>"
      ]
     },
     "metadata": {},
     "output_type": "display_data"
    }
   ],
   "source": [
    "fig, ax = plt.subplots( figsize = (15, 7))\n",
    "ax.set_title(\"Count of Over18\")                  # Set the title of the graph\n",
    "percentage = df[\"Over18\"].value_counts()         # value_counts: returns the count of values in series: return series\n",
    "labels = list(df[\"Over18\"].value_counts().index) # Converting the index of value counts into list\n",
    "\n",
    "plt.pie(percentage,labels = labels, autopct= \"%0.2f%%\")  # autopct: to print the percentage on pie wedge. 2 decimal points used \n",
    "\n",
    "plt.show()"
   ]
  },
  {
   "cell_type": "markdown",
   "id": "b865d78f",
   "metadata": {},
   "source": [
    "## ***Interpretation: The whole population is above 18 years. There is no child labor involved.  "
   ]
  },
  {
   "cell_type": "markdown",
   "id": "fbcd7ebd",
   "metadata": {},
   "source": [
    "# 10. Analysis of  PerformanceRating:\n",
    "LEVEL 1 Analysis of Categorical Data (Univariate Analysis) "
   ]
  },
  {
   "cell_type": "code",
   "execution_count": 41,
   "id": "8023edc4",
   "metadata": {},
   "outputs": [
    {
     "name": "stdout",
     "output_type": "stream",
     "text": [
      "Unique values in PerformanceRating are: [3 4]\n",
      "Mode of PerformanceRating is 3\n",
      "Number of missing values in PerformanceRating is 0\n"
     ]
    }
   ],
   "source": [
    "info_of_cat(\"PerformanceRating\")"
   ]
  },
  {
   "cell_type": "markdown",
   "id": "64b9e130",
   "metadata": {},
   "source": [
    "###### PerformanceRating is a ordinal datatype (Categorical) as it is having hierarchy in it."
   ]
  },
  {
   "cell_type": "code",
   "execution_count": 42,
   "id": "11901381",
   "metadata": {},
   "outputs": [
    {
     "data": {
      "image/png": "[encoded data removed]",
      "text/plain": [
       "<Figure size 1080x504 with 1 Axes>"
      ]
     },
     "metadata": {},
     "output_type": "display_data"
    }
   ],
   "source": [
    "fig, ax = plt.subplots( figsize = (15, 7))\n",
    "ax.set_title(\"Count of Performance Rating\")                  # Set the title of the graph\n",
    "percentage = df[\"PerformanceRating\"].value_counts()         # value_counts: returns the count of values in series: return series\n",
    "labels = list(df[\"PerformanceRating\"].value_counts().index) # Converting the index of value counts into list\n",
    "\n",
    "plt.pie(percentage,labels = labels, autopct= \"%0.2f%%\")  # autopct: to print the percentage on pie wedge. 2 decimal points used \n",
    "\n",
    "plt.show()"
   ]
  },
  {
   "cell_type": "markdown",
   "id": "dcc97db0",
   "metadata": {},
   "source": [
    "## ***Interpretation: Most of the employees are high performers and a very small percentage are average performers. "
   ]
  },
  {
   "cell_type": "markdown",
   "id": "71974891",
   "metadata": {},
   "source": [
    "# 11. Analysis of  Total Working Years:\n",
    "LEVEL 1 Analysis of Categorical Data (Univariate Analysis) "
   ]
  },
  {
   "cell_type": "code",
   "execution_count": 43,
   "id": "62ab1358",
   "metadata": {},
   "outputs": [
    {
     "name": "stdout",
     "output_type": "stream",
     "text": [
      "Unique values in TotalWorkingYears are: [ 8 10  7  6 12  1 17  5  3 31 13  0 26 24 22  9 19  2 23 14 15  4 29 28\n",
      " 21 25 20 11 16 37 38 30 40 18 36 34 32 33 35 27]\n",
      "Mode of TotalWorkingYears is 10\n",
      "Number of missing values in TotalWorkingYears is 0\n"
     ]
    }
   ],
   "source": [
    "info_of_cat(\"TotalWorkingYears\")"
   ]
  },
  {
   "cell_type": "markdown",
   "id": "4de1aede",
   "metadata": {},
   "source": [
    "###### TotalWorkingYears is a Continuous data type (Numerical).\n",
    "This column is mislabeled as categorical by our user defined function. We are correcting it below. "
   ]
  },
  {
   "cell_type": "code",
   "execution_count": 44,
   "id": "1da02ea0",
   "metadata": {},
   "outputs": [],
   "source": [
    "categorical.remove(\"TotalWorkingYears\")\n",
    "continuous.append(\"TotalWorkingYears\")"
   ]
  },
  {
   "cell_type": "markdown",
   "id": "8ab7f437",
   "metadata": {},
   "source": [
    "# 12. Analysis of  Work Life Balance:\n",
    "LEVEL 1 Analysis of Categorical Data (Univariate Analysis) "
   ]
  },
  {
   "cell_type": "code",
   "execution_count": 45,
   "id": "9027bcda",
   "metadata": {},
   "outputs": [
    {
     "name": "stdout",
     "output_type": "stream",
     "text": [
      "Unique values in WorkLifeBalance are: [1 3 2 4]\n",
      "Mode of WorkLifeBalance is 3\n",
      "Number of missing values in WorkLifeBalance is 0\n"
     ]
    }
   ],
   "source": [
    "info_of_cat(\"WorkLifeBalance\")"
   ]
  },
  {
   "cell_type": "markdown",
   "id": "ac13352f",
   "metadata": {},
   "source": [
    "###### Work Life Balance is a ordinal datatype (Categorical) as it is having hierarchy in it."
   ]
  },
  {
   "cell_type": "code",
   "execution_count": 46,
   "id": "043c08f5",
   "metadata": {},
   "outputs": [
    {
     "data": {
      "image/png": "[encoded data removed]",
      "text/plain": [
       "<Figure size 1080x504 with 1 Axes>"
      ]
     },
     "metadata": {},
     "output_type": "display_data"
    }
   ],
   "source": [
    "fig, ax = plt.subplots( figsize = (15, 7))\n",
    "ax.set_title(\"Work Life Balance\")                  # Set the title of the graph\n",
    "percentage = df[\"WorkLifeBalance\"].value_counts()         # value_counts: returns the count of values in series: return series\n",
    "labels = list(df[\"WorkLifeBalance\"].value_counts().index) # Converting the index of value counts into list\n",
    "\n",
    "plt.pie(percentage,labels = labels, autopct= \"%0.2f%%\")  # autopct: to print the percentage on pie wedge. 2 decimal points used \n",
    "\n",
    "plt.show()"
   ]
  },
  {
   "cell_type": "markdown",
   "id": "056cb7ab",
   "metadata": {},
   "source": [
    "## ***Interpretation: Almost 70% of the employees seem to have a good work life balance. "
   ]
  },
  {
   "cell_type": "markdown",
   "id": "3375820b",
   "metadata": {},
   "source": [
    "# $$\\;\\;\\;\\;\\;\\;Univariate \\ Analysis \\ of \\ Numerical \\ Variables$$"
   ]
  },
  {
   "cell_type": "markdown",
   "id": "320606af",
   "metadata": {},
   "source": [
    "LEVEL 1 Analysis of Numerical Columns\n",
    "----------------------------------------------------------\n",
    "Check if the variable is Discrete or Continuous. \\\n",
    "Measures of central tendency (mean, median) \\\n",
    "Measure of Dispersion \\\n",
    "Check for missing values \\\n",
    "Check for skewness\\\n",
    "Check for outliers \\\n",
    "How could the missing values be treated? \\\n",
    "What kind of graph/chart can be plotted using this data? \n"
   ]
  },
  {
   "cell_type": "markdown",
   "id": "2a4cd615",
   "metadata": {},
   "source": [
    "# 13 User defined function for calculating mean, median, standard deviation, and count of all the null values "
   ]
  },
  {
   "cell_type": "code",
   "execution_count": 47,
   "id": "e5f45f88",
   "metadata": {},
   "outputs": [],
   "source": [
    "def info_of_numerical(col):\n",
    "    print(f\"The mean of the {col} is {df[col].mean()}\")\n",
    "    print(f\"The median of the {col} is {df[col].median()}\")\n",
    "    print(f\"The mode of the {col} is {df[col].mode()[0]}\")\n",
    "    print(f\"The standard deviation of the {col} is {df[col].std()}\")\n",
    "    print(f\"Number of missing values in the {col} is {df[col].isnull().sum()}\")"
   ]
  },
  {
   "cell_type": "markdown",
   "id": "45246d76",
   "metadata": {},
   "source": [
    "# Names of Continuous Variables"
   ]
  },
  {
   "cell_type": "code",
   "execution_count": 48,
   "id": "dc5123fa",
   "metadata": {},
   "outputs": [
    {
     "data": {
      "text/plain": [
       "['Age',\n",
       " 'EmployeeNumber',\n",
       " 'HourlyRate',\n",
       " 'MonthlyIncome',\n",
       " 'DistanceFromHome',\n",
       " 'TotalWorkingYears']"
      ]
     },
     "execution_count": 48,
     "metadata": {},
     "output_type": "execute_result"
    }
   ],
   "source": [
    "continuous"
   ]
  },
  {
   "cell_type": "markdown",
   "id": "464271c8",
   "metadata": {},
   "source": [
    "# 14. Analysis of  the Employee's Age:\n",
    "LEVEL 1 Analysis of Numerical Data (Univariate Analysis) "
   ]
  },
  {
   "cell_type": "code",
   "execution_count": 49,
   "id": "06caee9b",
   "metadata": {},
   "outputs": [
    {
     "name": "stdout",
     "output_type": "stream",
     "text": [
      "The mean of the Age is 36.93015214384509\n",
      "The median of the Age is 36.0\n",
      "The mode of the Age is 34.0\n",
      "The standard deviation of the Age is 9.16220404447615\n",
      "Number of missing values in the Age is 24\n"
     ]
    }
   ],
   "source": [
    "info_of_numerical(\"Age\")"
   ]
  },
  {
   "cell_type": "markdown",
   "id": "002be330",
   "metadata": {},
   "source": [
    "######  Employee's Age is a continuous datatype (Numerical)."
   ]
  },
  {
   "cell_type": "code",
   "execution_count": 50,
   "id": "b70234ce",
   "metadata": {},
   "outputs": [
    {
     "data": {
      "image/png": "[encoded data removed]",
      "text/plain": [
       "<Figure size 1440x504 with 2 Axes>"
      ]
     },
     "metadata": {
      "needs_background": "light"
     },
     "output_type": "display_data"
    }
   ],
   "source": [
    "# Distribution of Customer_Age\n",
    "fig, ax = plt.subplots(1, 2, figsize= (20, 7))               # Creating the space for the 2 images, first argument in subplots is rows and second is columns and the figure size\n",
    "sns.histplot(x = df[\"Age\"], ax =ax[1], color = \"m\") # ax[1] means image will plot at the second space\n",
    "sns.boxplot(x = df[\"Age\"], ax = ax[0], color = \"g\") # ax[0] means image will plot at the second space\n",
    "plt.show()"
   ]
  },
  {
   "cell_type": "markdown",
   "id": "180d93ac",
   "metadata": {},
   "source": [
    "This is a normal distributed data\n",
    "## Missing value treatment: Mean or Median of the Employee's Age"
   ]
  },
  {
   "cell_type": "code",
   "execution_count": 51,
   "id": "82092854",
   "metadata": {},
   "outputs": [],
   "source": [
    "mean = 36\n",
    "df[\"Age\"].fillna(mean, axis = 0, inplace = True)"
   ]
  },
  {
   "cell_type": "markdown",
   "id": "00d55bde",
   "metadata": {},
   "source": [
    "# Analyzing it again"
   ]
  },
  {
   "cell_type": "code",
   "execution_count": 52,
   "id": "5dfc4224",
   "metadata": {},
   "outputs": [
    {
     "name": "stdout",
     "output_type": "stream",
     "text": [
      "The mean of the Age is 36.914965986394556\n",
      "The median of the Age is 36.0\n",
      "The mode of the Age is 36.0\n",
      "The standard deviation of the Age is 9.087816436803726\n",
      "Number of missing values in the Age is 0\n"
     ]
    }
   ],
   "source": [
    "info_of_numerical(\"Age\")"
   ]
  },
  {
   "cell_type": "code",
   "execution_count": 53,
   "id": "79d066a7",
   "metadata": {},
   "outputs": [
    {
     "data": {
      "image/png": "[encoded data removed]",
      "text/plain": [
       "<Figure size 1440x504 with 2 Axes>"
      ]
     },
     "metadata": {
      "needs_background": "light"
     },
     "output_type": "display_data"
    }
   ],
   "source": [
    "# Distribution of Customer_Age\n",
    "fig, ax = plt.subplots(1, 2, figsize= (20, 7))               # Creating the space for the 2 images, first argument in subplots is rows and second is columns and the figure size\n",
    "sns.histplot(x = df[\"Age\"], ax =ax[1], color = \"m\") # ax[1] means image will plot at the second space\n",
    "sns.boxplot(x = df[\"Age\"], ax = ax[0], color = \"g\") # ax[0] means image will plot at the second space\n",
    "plt.show()"
   ]
  },
  {
   "cell_type": "markdown",
   "id": "28c1735a",
   "metadata": {},
   "source": [
    "## ***Interpretation: Usually employee's age follows the normal distribution. There are no employees above the age of 60."
   ]
  },
  {
   "cell_type": "markdown",
   "id": "c56d656c",
   "metadata": {},
   "source": [
    "# 15. Analysis of  the EmployeeNumber:\n",
    "LEVEL 1 Analysis of Numerical Data (Univariate Analysis) "
   ]
  },
  {
   "cell_type": "code",
   "execution_count": 54,
   "id": "5b351f17",
   "metadata": {},
   "outputs": [
    {
     "name": "stdout",
     "output_type": "stream",
     "text": [
      "The mean of the EmployeeNumber is 1024.865306122449\n",
      "The median of the EmployeeNumber is 1020.5\n",
      "The mode of the EmployeeNumber is 1\n",
      "The standard deviation of the EmployeeNumber is 602.024334847475\n",
      "Number of missing values in the EmployeeNumber is 0\n"
     ]
    }
   ],
   "source": [
    "info_of_numerical(\"EmployeeNumber\")"
   ]
  },
  {
   "cell_type": "markdown",
   "id": "8eee5eb2",
   "metadata": {},
   "source": [
    "## ***Interpretation: One is not supposed to perform measures of central tendency on the employee code column of the company. "
   ]
  },
  {
   "cell_type": "markdown",
   "id": "c443690a",
   "metadata": {},
   "source": [
    "# 16. Analysis of HourlyRate:\n",
    "LEVEL 1 Analysis of Numerical Data (Univariate Analysis) "
   ]
  },
  {
   "cell_type": "code",
   "execution_count": 55,
   "id": "b6832592",
   "metadata": {},
   "outputs": [
    {
     "name": "stdout",
     "output_type": "stream",
     "text": [
      "The mean of the HourlyRate is 65.89115646258503\n",
      "The median of the HourlyRate is 66.0\n",
      "The mode of the HourlyRate is 66\n",
      "The standard deviation of the HourlyRate is 20.329427593996158\n",
      "Number of missing values in the HourlyRate is 0\n"
     ]
    }
   ],
   "source": [
    "info_of_numerical(\"HourlyRate\")"
   ]
  },
  {
   "cell_type": "markdown",
   "id": "2b33c8d7",
   "metadata": {},
   "source": [
    "####  Hourly Rate is a continuous datatype (Numerical)."
   ]
  },
  {
   "cell_type": "code",
   "execution_count": 56,
   "id": "b84288ed",
   "metadata": {},
   "outputs": [
    {
     "data": {
      "image/png": "[encoded data removed]",
      "text/plain": [
       "<Figure size 1440x504 with 2 Axes>"
      ]
     },
     "metadata": {
      "needs_background": "light"
     },
     "output_type": "display_data"
    }
   ],
   "source": [
    "fig, ax = plt.subplots(1, 2, figsize= (20, 7))               # Creating the space for the 2 images, first argument in subplots is rows and second is columns and the figure size\n",
    "sns.histplot(x = df[\"HourlyRate\"], ax =ax[1], color = \"m\") # ax[1] means image will plot at the second space\n",
    "sns.boxplot(x = df[\"HourlyRate\"], ax = ax[0], color = \"g\") # ax[0] means image will plot at the second space\n",
    "plt.show()"
   ]
  },
  {
   "cell_type": "markdown",
   "id": "887f30f5",
   "metadata": {},
   "source": [
    "## ***Interpretation: Majority of employees have an hourly rate between `$47` and `$83`."
   ]
  },
  {
   "cell_type": "markdown",
   "id": "0fb697fd",
   "metadata": {},
   "source": [
    "# 17. Analysis of  the MonthlyIncome:\n",
    "LEVEL 1 Analysis of Numerical Data (Univariate Analysis) "
   ]
  },
  {
   "cell_type": "code",
   "execution_count": 57,
   "id": "a562011a",
   "metadata": {},
   "outputs": [
    {
     "name": "stdout",
     "output_type": "stream",
     "text": [
      "The mean of the MonthlyIncome is 6502.931292517007\n",
      "The median of the MonthlyIncome is 4919.0\n",
      "The mode of the MonthlyIncome is 2342\n",
      "The standard deviation of the MonthlyIncome is 4707.956783097995\n",
      "Number of missing values in the MonthlyIncome is 0\n"
     ]
    }
   ],
   "source": [
    "info_of_numerical(\"MonthlyIncome\")"
   ]
  },
  {
   "cell_type": "markdown",
   "id": "e20040f6",
   "metadata": {},
   "source": [
    "####  Monthly Income is a continuous datatype (Numerical)."
   ]
  },
  {
   "cell_type": "code",
   "execution_count": 58,
   "id": "b648f25b",
   "metadata": {},
   "outputs": [
    {
     "data": {
      "image/png": "[encoded data removed]",
      "text/plain": [
       "<Figure size 1440x504 with 2 Axes>"
      ]
     },
     "metadata": {
      "needs_background": "light"
     },
     "output_type": "display_data"
    }
   ],
   "source": [
    "fig, ax = plt.subplots(1, 2, figsize= (20, 7))               # Creating the space for the 2 images, first argument in subplots is rows and second is columns and the figure size\n",
    "sns.histplot(x = df[\"MonthlyIncome\"], ax =ax[1], color = \"m\") # ax[1] means image will plot at the second space\n",
    "sns.boxplot(x = df[\"MonthlyIncome\"], ax = ax[0], color = \"g\") # ax[0] means image will plot at the second space\n",
    "plt.show()"
   ]
  },
  {
   "cell_type": "markdown",
   "id": "20bb9512",
   "metadata": {},
   "source": [
    "This is a right skewed data.\n",
    "## Outliers Analysis and Interpretation:  \n",
    "\n",
    "Majority of the employees are earning below `$8K` per month. There are a few employees who seem to earn more than $15K per month."
   ]
  },
  {
   "cell_type": "markdown",
   "id": "0072c944",
   "metadata": {},
   "source": [
    "Level 2 Analysis (Getting closer to the BIG QUESTION: Employee's Attrition) \n",
    "---------------------------------------------------------------------------------------------------\n",
    "\n",
    "How can this column make way to further analysis to answer the big question?\n",
    "\n",
    "What other columns could be clubbed with Employee churn to ask further questions?\n",
    "\n",
    "The below is the variables list of columns/features in the given data. "
   ]
  },
  {
   "cell_type": "code",
   "execution_count": 59,
   "id": "fca7cea5",
   "metadata": {},
   "outputs": [
    {
     "name": "stdout",
     "output_type": "stream",
     "text": [
      "categorical               continuous\n",
      "------------------------  -----------------\n",
      "Attrition                 Age\n",
      "BusinessTravel            EmployeeNumber\n",
      "Department                HourlyRate\n",
      "EducationField            MonthlyIncome\n",
      "EnvironmentSatisfaction   DistanceFromHome\n",
      "Gender                    TotalWorkingYears\n",
      "JobInvolvement\n",
      "JobRole\n",
      "JobSatisfaction\n",
      "MaritalStatus\n",
      "NumCompaniesWorked\n",
      "Over18\n",
      "OverTime\n",
      "PerformanceRating\n",
      "RelationshipSatisfaction\n",
      "TrainingTimesLastYear\n",
      "WorkLifeBalance\n",
      "YearsAtCompany\n",
      "YearsInCurrentRole\n",
      "YearsSinceLastPromotion\n",
      "YearsWithCurrManager\n"
     ]
    }
   ],
   "source": [
    "x = print(tabulate({\"Categorical\":categorical,\n",
    "                \"Continuous\": continuous}, headers = [\"categorical\", \"continuous\"]))"
   ]
  },
  {
   "cell_type": "markdown",
   "id": "d30279e8",
   "metadata": {},
   "source": [
    "CAT-CAT ANALYSIS  (relationship between categorical data)\n",
    "-----------------------------------------------------------------------------------\n",
    "\n",
    "One could ask the following questions about the Employee's Attrition who have left the bank by relating Attrition column with each and every categorical column mentioned above. \n",
    "\n",
    "1. Business Travel analysis of those customers who have left the company.\n",
    "2. Is there any relation between the Employees who have left the company and the Departments they worked in?\n",
    "3. Analysis of EducationField with employees who have left the company.\n",
    "4. Analysis of Environment Satisfaction with employees who have left the company.\n",
    "5. Is there any relation between Gender and the employees who have left the company?\n",
    "6. Marital Status analysis of the employees who have left the company.\n",
    "7. Analysis of Performance rating of the employees who have left the company.\n",
    "8. JobSatifaction analysis of the employees who have left the company.\n",
    "\n",
    "Note: We could repeat the same analysis with the customers who are still working with the company. \n",
    "\n",
    "\n",
    "1. Business Travel analysis of those customers who are the existing employees.\n",
    "2. Is there any relation between the Employees who are still working with the firm and their departments?\n",
    "3. Analysis of EducationField with the employees who are still with the firm.\n",
    "4. Analysis of Environment Satisfaction with the employees who are still working for the firm. \n",
    "5. Is there any relation between Gender and the employees who are working for the firm?\n",
    "6. Marital Status analysis of the existing employees.\n",
    "7. Analysis of Performance rating of the existing employees of the firm.\n",
    "8. JobSatifaction analysis of the employees who are still with the firm.\n"
   ]
  },
  {
   "cell_type": "markdown",
   "id": "29192dfd",
   "metadata": {},
   "source": [
    "# 1. Analysis of Business Travel on Attrition\n",
    "Level 2 Categorical to Categorical"
   ]
  },
  {
   "cell_type": "code",
   "execution_count": 60,
   "id": "e98a7b18",
   "metadata": {},
   "outputs": [
    {
     "data": {
      "image/png": "[encoded data removed]",
      "text/plain": [
       "<Figure size 720x504 with 1 Axes>"
      ]
     },
     "metadata": {
      "needs_background": "light"
     },
     "output_type": "display_data"
    }
   ],
   "source": [
    "fig, ax = plt.subplots(figsize = (10, 7))\n",
    "sns.countplot(x = \"BusinessTravel\", hue = \"Attrition\", data = df)\n",
    "plt.show()"
   ]
  },
  {
   "cell_type": "markdown",
   "id": "d8a4ccf5",
   "metadata": {},
   "source": [
    "## ***Interpretation: Rarely traveling employees are the ones who seem to quit the company. "
   ]
  },
  {
   "cell_type": "markdown",
   "id": "0e03d3ab",
   "metadata": {},
   "source": [
    "# 2. Analysis of EducationField analysis with the Attrition\n",
    "Level 2 Categorical to Categorical"
   ]
  },
  {
   "cell_type": "code",
   "execution_count": 62,
   "id": "06e6e7c7",
   "metadata": {},
   "outputs": [
    {
     "data": {
      "image/png": "[encoded data removed]",
      "text/plain": [
       "<Figure size 720x504 with 1 Axes>"
      ]
     },
     "metadata": {
      "needs_background": "light"
     },
     "output_type": "display_data"
    }
   ],
   "source": [
    "fig, ax = plt.subplots(figsize = (10, 7))\n",
    "sns.countplot(x = \"EducationField\", hue = \"Attrition\", data = df)\n",
    "plt.show()"
   ]
  },
  {
   "cell_type": "markdown",
   "id": "f921b38e",
   "metadata": {},
   "source": [
    "## ***Interpretation: The employees from Life Science and Medical fields seem to have higher attrition when compared to other educational majors. However, we noted that almost 70% of the employees in the company have a Life Science or Medical degree as education. "
   ]
  },
  {
   "cell_type": "markdown",
   "id": "e6b7a654",
   "metadata": {},
   "source": [
    "# 3. Is there any relation between the Employee's Attrition and the Department?\n",
    "Level 2 Categorical to Categorical"
   ]
  },
  {
   "cell_type": "code",
   "execution_count": 64,
   "id": "04504e34",
   "metadata": {},
   "outputs": [
    {
     "data": {
      "image/png": "[encoded data removed]",
      "text/plain": [
       "<Figure size 720x504 with 1 Axes>"
      ]
     },
     "metadata": {
      "needs_background": "light"
     },
     "output_type": "display_data"
    }
   ],
   "source": [
    "fig, ax = plt.subplots(figsize = (10, 7))\n",
    "sns.countplot(x = \"Department\", hue = \"Attrition\", data = df)\n",
    "plt.show()"
   ]
  },
  {
   "cell_type": "markdown",
   "id": "37be46a6",
   "metadata": {},
   "source": [
    "## ***Interpretation: The HR department seems to have the lowest attrition in terms of numbers. "
   ]
  },
  {
   "cell_type": "code",
   "execution_count": 65,
   "id": "d52d982a",
   "metadata": {},
   "outputs": [
    {
     "data": {
      "text/plain": [
       "Attrition  Department            \n",
       "No         Research & Development    828\n",
       "           Sales                     354\n",
       "           Human Resources            51\n",
       "Yes        Research & Development    133\n",
       "           Sales                      92\n",
       "           Human Resources            12\n",
       "Name: Department, dtype: int64"
      ]
     },
     "execution_count": 65,
     "metadata": {},
     "output_type": "execute_result"
    }
   ],
   "source": [
    "df[\"Department\"].groupby(df[\"Attrition\"]).value_counts() "
   ]
  },
  {
   "cell_type": "code",
   "execution_count": 64,
   "id": "c6f5b6d0",
   "metadata": {},
   "outputs": [
    {
     "name": "stdout",
     "output_type": "stream",
     "text": [
      "R and D Attrition: 0.14%\n",
      "Sales Attrition Rate: 0.21%\n",
      "Human Resource: 0.19%\n"
     ]
    }
   ],
   "source": [
    "print(f\"R and D Attrition: {round(133/(133+828),2)}%\")\n",
    "print(f\"Sales Attrition Rate: {round(92/(92+354),2)}%\")\n",
    "print(f\"Human Resource: {round(12/(12+51),2)}%\")"
   ]
  },
  {
   "cell_type": "markdown",
   "id": "a7189e40",
   "metadata": {},
   "source": [
    "## ***Interpretation: Although the HR team's attrition seems to be on the lower side, the above figures do not verify the same. "
   ]
  },
  {
   "cell_type": "markdown",
   "id": "628c1824",
   "metadata": {},
   "source": [
    "# 4.  Analysis of Environment Satisfaction with the Attrition \n",
    "Level 2 Categorical to Categorical"
   ]
  },
  {
   "cell_type": "code",
   "execution_count": 66,
   "id": "6affa2dc",
   "metadata": {},
   "outputs": [
    {
     "data": {
      "image/png": "[encoded data removed]",
      "text/plain": [
       "<Figure size 720x504 with 1 Axes>"
      ]
     },
     "metadata": {
      "needs_background": "light"
     },
     "output_type": "display_data"
    }
   ],
   "source": [
    "fig, ax = plt.subplots(figsize = (10, 7))\n",
    "sns.countplot(x = \"EnvironmentSatisfaction\", hue = \"Attrition\", data = df)\n",
    "plt.show()"
   ]
  },
  {
   "cell_type": "markdown",
   "id": "ae37a9ae",
   "metadata": {},
   "source": [
    "## ***Interpretation: No clear patterns are visible in the employees who are attired with lower and higher environment satisfaction."
   ]
  },
  {
   "cell_type": "markdown",
   "id": "f6ffd8cd",
   "metadata": {},
   "source": [
    "# 5. Gender analysis on Attrition who left the firm and who are still with it\n",
    "Level 2 Categorical to Categorical"
   ]
  },
  {
   "cell_type": "code",
   "execution_count": 68,
   "id": "7c4e771b",
   "metadata": {},
   "outputs": [
    {
     "data": {
      "image/png": "[encoded data removed]",
      "text/plain": [
       "<Figure size 720x504 with 1 Axes>"
      ]
     },
     "metadata": {
      "needs_background": "light"
     },
     "output_type": "display_data"
    }
   ],
   "source": [
    "fig, ax = plt.subplots(figsize = (10, 7))\n",
    "sns.countplot(x = \"Gender\", hue = \"Attrition\", data = df)\n",
    "plt.show()"
   ]
  },
  {
   "cell_type": "markdown",
   "id": "4ef4f0f8",
   "metadata": {},
   "source": [
    "## ***Interpretation: Number of males who attired is more as compared to the females. \n",
    "But when the percentage is compared in the ratio of attiring with respect to their gender, the picture might be different. "
   ]
  },
  {
   "cell_type": "code",
   "execution_count": 69,
   "id": "715a87bb",
   "metadata": {},
   "outputs": [
    {
     "data": {
      "text/plain": [
       "Attrition  Gender   \n",
       "No         Male         704\n",
       "           Female       491\n",
       "           Not Known     38\n",
       "Yes        Male         145\n",
       "           Female        85\n",
       "           Not Known      7\n",
       "Name: Gender, dtype: int64"
      ]
     },
     "execution_count": 69,
     "metadata": {},
     "output_type": "execute_result"
    }
   ],
   "source": [
    "df[\"Gender\"].groupby(df[\"Attrition\"]).value_counts() "
   ]
  },
  {
   "cell_type": "code",
   "execution_count": 70,
   "id": "ae481331",
   "metadata": {},
   "outputs": [
    {
     "name": "stdout",
     "output_type": "stream",
     "text": [
      "Male Attrition Rate: 0.17%\n",
      "Female Attrition Rate: 0.15%\n"
     ]
    }
   ],
   "source": [
    "print(f\"Male Attrition Rate: {round(152/(152+742),2)}%\")\n",
    "print(f\"Female Attrition Rate: {round(85/(85+491),2)}%\")\n"
   ]
  },
  {
   "cell_type": "markdown",
   "id": "e8f552cb",
   "metadata": {},
   "source": [
    "## ***Interpretation: Males are having a higher number of Attrition but it is only a 2% of difference when compared to females."
   ]
  },
  {
   "cell_type": "markdown",
   "id": "b03ed2e2",
   "metadata": {},
   "source": [
    "# 6. Marital Status analysis of the employees who have left the firm and who are still with it\n",
    "Level 2 Categorical to Categorical"
   ]
  },
  {
   "cell_type": "code",
   "execution_count": 72,
   "id": "88600362",
   "metadata": {},
   "outputs": [
    {
     "data": {
      "image/png": "[encoded data removed]",
      "text/plain": [
       "<Figure size 720x504 with 1 Axes>"
      ]
     },
     "metadata": {
      "needs_background": "light"
     },
     "output_type": "display_data"
    }
   ],
   "source": [
    "fig, ax = plt.subplots(figsize = (10, 7))\n",
    "sns.countplot(x = \"MaritalStatus\", hue = \"Attrition\", data = df)\n",
    "plt.show()"
   ]
  },
  {
   "cell_type": "markdown",
   "id": "c867e8da",
   "metadata": {},
   "source": [
    "## ***Interpretation: Employees who are single have a higher rate of attrition as compared to those who are married. "
   ]
  },
  {
   "cell_type": "markdown",
   "id": "5b52760b",
   "metadata": {},
   "source": [
    "# 7. Effect of the Performance Rating with the Attrition\n",
    "Level 2 Categorical to Categorical"
   ]
  },
  {
   "cell_type": "code",
   "execution_count": 74,
   "id": "db853de3",
   "metadata": {},
   "outputs": [
    {
     "data": {
      "image/png": "[encoded data removed]",
      "text/plain": [
       "<Figure size 720x504 with 1 Axes>"
      ]
     },
     "metadata": {
      "needs_background": "light"
     },
     "output_type": "display_data"
    }
   ],
   "source": [
    "fig, ax = plt.subplots(figsize = (10, 7))\n",
    "sns.countplot(x = \"PerformanceRating\", hue = \"Attrition\", data = df)\n",
    "plt.show()"
   ]
  },
  {
   "cell_type": "markdown",
   "id": "5147116f",
   "metadata": {},
   "source": [
    "## ***Interpretation: Employees who have higher performance ratings tend to continue with the company. "
   ]
  },
  {
   "cell_type": "markdown",
   "id": "1c18d096",
   "metadata": {},
   "source": [
    "# 8. Job Satisfaction analysis of the employees who have left and those who are still with the firm.\n",
    "Level 2 Categorical to Categorical"
   ]
  },
  {
   "cell_type": "code",
   "execution_count": 76,
   "id": "e2b95c8b",
   "metadata": {},
   "outputs": [
    {
     "data": {
      "image/png": "[encoded data removed]",
      "text/plain": [
       "<Figure size 720x504 with 1 Axes>"
      ]
     },
     "metadata": {
      "needs_background": "light"
     },
     "output_type": "display_data"
    }
   ],
   "source": [
    "fig, ax = plt.subplots(figsize = (10, 7))\n",
    "sns.countplot(x = \"JobSatisfaction\", hue = \"Attrition\", data = df)\n",
    "plt.show()"
   ]
  },
  {
   "cell_type": "markdown",
   "id": "cd822175",
   "metadata": {},
   "source": [
    "## ***Interpretation: No clear pattern is visible in the people who are attired with lower and higher job satisfaction. "
   ]
  },
  {
   "cell_type": "markdown",
   "id": "b4cf21a2",
   "metadata": {},
   "source": [
    "# 2nd Step: Categorical to Continuous"
   ]
  },
  {
   "cell_type": "code",
   "execution_count": 66,
   "id": "1b4fbde2",
   "metadata": {},
   "outputs": [
    {
     "data": {
      "text/plain": [
       "['Age',\n",
       " 'EmployeeNumber',\n",
       " 'HourlyRate',\n",
       " 'MonthlyIncome',\n",
       " 'DistanceFromHome',\n",
       " 'TotalWorkingYears']"
      ]
     },
     "execution_count": 66,
     "metadata": {},
     "output_type": "execute_result"
    }
   ],
   "source": [
    "continuous"
   ]
  },
  {
   "cell_type": "markdown",
   "id": "40b00a4c",
   "metadata": {},
   "source": [
    "CAT-NUM ANALYSIS (relationship between categorical and numerical data) \n",
    "-----------------------------------------------------------------------------------------------------------\n",
    "\n",
    "One could ask the following questions about the employees who have left the firm by relation with attrition feature with each numerical column mentioned below:\n",
    "\n",
    "1. Employee's Age analysis with their customers who have left out and who are still with the firm\n",
    "2. Is there any relation between the hourly rate of the employees with the employees who have been left?\n",
    "3. Monthly Income analysis with the employees who have left out\n",
    "4. How Distance from home is impacting the attired employees?\n",
    "5. Is there any relation between the total working years of the employees who left out?\n",
    "\n",
    "Note: We could repeat the same analysis for the employees who are still working for the firm. \n",
    "1. Employee's Age analysis with their customers who are still with the firm\n",
    "2. Is there any relation between the hourly rate of the employees with the employees who are existing employees?\n",
    "3. Monthly Income analysis with the employees who are still with the firm.\n",
    "4. How Distance from home is impacting the employees who are still with the firm?\n",
    "5. Is there any relation between the total working years of the employees who are still with the firm?\n"
   ]
  },
  {
   "cell_type": "markdown",
   "id": "ec3922d5",
   "metadata": {},
   "source": [
    "# 1. Employee's Age analysis with their customers who have left and with those who are still with the firm \n",
    "Level 2: Categorical to Continuous"
   ]
  },
  {
   "cell_type": "code",
   "execution_count": 76,
   "id": "ded5f286",
   "metadata": {},
   "outputs": [
    {
     "data": {
      "image/png": "[encoded data removed]",
      "text/plain": [
       "<Figure size 1080x504 with 2 Axes>"
      ]
     },
     "metadata": {
      "needs_background": "light"
     },
     "output_type": "display_data"
    }
   ],
   "source": [
    "fig, ax = plt.subplots(1, 2, figsize = (15, 7))\n",
    "sns.histplot(x = df[\"Age\"], hue = df[\"Attrition\"], ax = ax[0])\n",
    "sns.boxplot(y = df[\"Age\"], x = df[\"Attrition\"], ax = ax[1])\n",
    "plt.show()\n"
   ]
  },
  {
   "cell_type": "markdown",
   "id": "b50401e2",
   "metadata": {},
   "source": [
    "## ***Interpretation: People who are attired are usually in the age range of 28 to 40 years whereas the people who are still working have a higher range of age from 33 to 43 years approx. "
   ]
  },
  {
   "cell_type": "markdown",
   "id": "3754f37c",
   "metadata": {},
   "source": [
    "# 2. Is there any relation between the hourly rate of the employees and the employees who have left?\n",
    "Level 2: Categorical to Continuous"
   ]
  },
  {
   "cell_type": "code",
   "execution_count": 73,
   "id": "76bfc5eb",
   "metadata": {},
   "outputs": [
    {
     "data": {
      "image/png": "[encoded data removed]",
      "text/plain": [
       "<Figure size 1080x504 with 2 Axes>"
      ]
     },
     "metadata": {
      "needs_background": "light"
     },
     "output_type": "display_data"
    }
   ],
   "source": [
    "fig, ax = plt.subplots(1, 2, figsize = (15, 7))\n",
    "sns.histplot(x = df[\"HourlyRate\"], hue = df[\"Attrition\"], ax = ax[0])\n",
    "sns.boxplot(x = df[\"Attrition\"] ,y = df[\"HourlyRate\"] , ax = ax[1])\n",
    "plt.show()"
   ]
  },
  {
   "cell_type": "markdown",
   "id": "cf9ed013",
   "metadata": {},
   "source": [
    "## ***Interpretation:  Both of the employees' categories who are attired and who are still working with the firm have a common hourly rate."
   ]
  },
  {
   "cell_type": "markdown",
   "id": "bfde811f",
   "metadata": {},
   "source": [
    "# 3. Monthly Income analysis of the employees who have left and who are still with the firm\n",
    "Level 2: Categorical to Continuous"
   ]
  },
  {
   "cell_type": "code",
   "execution_count": 79,
   "id": "d33dfd63",
   "metadata": {},
   "outputs": [
    {
     "data": {
      "image/png": "[encoded data removed]",
      "text/plain": [
       "<Figure size 1080x504 with 2 Axes>"
      ]
     },
     "metadata": {
      "needs_background": "light"
     },
     "output_type": "display_data"
    }
   ],
   "source": [
    "fig, ax = plt.subplots(1, 2, figsize = (15, 7))\n",
    "sns.histplot(x = df[\"MonthlyIncome\"], hue = df[\"Attrition\"], ax = ax[0])\n",
    "sns.boxplot(y = df[\"Attrition\"], x = df[\"MonthlyIncome\"], ax = ax[1])\n",
    "plt.show()"
   ]
  },
  {
   "cell_type": "markdown",
   "id": "ee73085e",
   "metadata": {},
   "source": [
    "## ***Interpretation: 75% of the employees who quit have an income slightly greater than the 50% of the employees who are still working with the firm."
   ]
  },
  {
   "cell_type": "markdown",
   "id": "ce172194",
   "metadata": {},
   "source": [
    "# 4. How distance from home is impacting the attrition of employees?\n",
    "Level 2: Categorical to Continuous"
   ]
  },
  {
   "cell_type": "code",
   "execution_count": 80,
   "id": "55d58482",
   "metadata": {},
   "outputs": [
    {
     "data": {
      "image/png": "[encoded data removed]",
      "text/plain": [
       "<Figure size 1080x504 with 2 Axes>"
      ]
     },
     "metadata": {
      "needs_background": "light"
     },
     "output_type": "display_data"
    }
   ],
   "source": [
    "fig, ax = plt.subplots(1, 2, figsize = (15, 7))\n",
    "sns.histplot(x = df[\"DistanceFromHome\"], hue = df[\"Attrition\"], ax = ax[0])\n",
    "sns.boxplot(y = df[\"Attrition\"], x = df[\"DistanceFromHome\"], ax = ax[1])\n",
    "plt.show()"
   ]
  },
  {
   "cell_type": "markdown",
   "id": "ab22d5e6",
   "metadata": {},
   "source": [
    "## ***Interpretation: Employees who seem to travel long distances to reach the office seem to have a higher attrition rate."
   ]
  },
  {
   "cell_type": "markdown",
   "id": "2bbb359f",
   "metadata": {},
   "source": [
    "# 5. Is there any relation between the total working years of the employees with attrition?\n",
    "Level 2: Categorical to Continuous"
   ]
  },
  {
   "cell_type": "code",
   "execution_count": 82,
   "id": "939e1861",
   "metadata": {},
   "outputs": [
    {
     "data": {
      "image/png": "[encoded data removed]",
      "text/plain": [
       "<Figure size 1080x504 with 2 Axes>"
      ]
     },
     "metadata": {
      "needs_background": "light"
     },
     "output_type": "display_data"
    }
   ],
   "source": [
    "fig, ax = plt.subplots(1, 2, figsize = (15, 7))\n",
    "sns.histplot(x = df[\"TotalWorkingYears\"], hue = df[\"Attrition\"], ax = ax[0])\n",
    "sns.boxplot(y = df[\"Attrition\"], x = df[\"TotalWorkingYears\"], ax = ax[1])\n",
    "plt.show()"
   ]
  },
  {
   "cell_type": "markdown",
   "id": "526fa7f2",
   "metadata": {},
   "source": [
    "## ***Interpretation: Employees with lower work experience seem to quit the job more often. "
   ]
  }
 ],
 "metadata": {
  "kernelspec": {
   "display_name": "Python 3 (ipykernel)",
   "language": "python",
   "name": "python3"
  },
  "language_info": {
   "codemirror_mode": {
    "name": "ipython",
    "version": 3
   },
   "file_extension": ".py",
   "mimetype": "text/x-python",
   "name": "python",
   "nbconvert_exporter": "python",
   "pygments_lexer": "ipython3",
   "version": "3.7.13"
  }
 },
 "nbformat": 4,
 "nbformat_minor": 5
}
